{
 "cells": [
  {
   "cell_type": "code",
   "execution_count": null,
   "metadata": {},
   "outputs": [],
   "source": [
    "import git\n",
    "repo = git.Repo()\n",
    "path = \"count.txt\"\n",
    "\n",
    "g = git.Git()\n",
    "hexshas = g.log('--pretty=%H','--follow','--',path).split('\\n')\n",
    "\n",
    "loginfo = g.log(path,p=True)\n",
    "# print(loginfo)\n",
    "\n",
    "import re\n",
    "\n",
    "dates = re.findall('(?<=Date:)(.*)(?=\\n)', loginfo)\n",
    "words = re.findall('(?<=\\+Words in text:)(.*)(?=\\n)', loginfo)\n",
    "\n",
    "from dateutil import parser\n",
    "\n",
    "parsed_dates =[]\n",
    "for i,date in enumerate(dates):\n",
    "    parsed_dates.append(parser.parse(date))\n",
    "\n",
    "import numpy as np\n",
    "import matplotlib.pyplot as plt\n",
    "\n",
    "fig, ax = plt.subplots(figsize=(7, 4))\n",
    "# fig.autofmt_xdate(rotation=45)\n",
    "plt.plot_date(parsed_dates[0:92],words[0:92])\n",
    "plt.draw()\n",
    "fig.savefig('tessstttyyy.png', dpi=100)\n",
    "plt.savefig('temp.pdf')\n"
   ]
  }
 ],
 "metadata": {
  "kernelspec": {
   "display_name": "thisenv",
   "language": "python",
   "name": "thisenv"
  },
  "language_info": {
   "codemirror_mode": {
    "name": "ipython",
    "version": 3
   },
   "file_extension": ".py",
   "mimetype": "text/x-python",
   "name": "python",
   "nbconvert_exporter": "python",
   "pygments_lexer": "ipython3",
   "version": "3.6.3"
  }
 },
 "nbformat": 4,
 "nbformat_minor": 2
}
