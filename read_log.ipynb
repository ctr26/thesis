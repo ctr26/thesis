{
 "cells": [
  {
   "cell_type": "code",
   "execution_count": 2,
   "metadata": {
    "collapsed": false,
    "inputHidden": false,
    "outputHidden": false
   },
   "outputs": [],
   "source": [
    "import git"
   ]
  },
  {
   "cell_type": "code",
   "execution_count": 52,
   "metadata": {
    "collapsed": false,
    "inputHidden": false,
    "outputHidden": false
   },
   "outputs": [
    {
     "data": {
      "image/png": "[encoded data removed]",
      "text/plain": [
       "<matplotlib.figure.Figure at 0x11623f978>"
      ]
     },
     "metadata": {},
     "output_type": "display_data"
    }
   ],
   "source": [
    "repo = git.Repo()\n",
    "path = \"count.txt\"\n",
    "\n",
    "g = git.Git()\n",
    "hexshas = g.log('--pretty=%H','--follow','--',path).split('\\n')\n",
    "\n",
    "loginfo = g.log(path,p=True)\n",
    "# print(loginfo)\n",
    "\n",
    "import re\n",
    "\n",
    "dates = re.findall('(?<=Date:)(.*)(?=\\n)', loginfo)\n",
    "words = re.findall('(?<=\\+Words in text:)(.*)(?=\\n)', loginfo)\n",
    "word_count = [ int(s) for s in words ]\n",
    "\n",
    "from dateutil import parser\n",
    "\n",
    "parsed_dates =[]\n",
    "for i,date in enumerate(dates):\n",
    "    parsed_dates.append(parser.parse(date))\n",
    "\n",
    "import numpy as np\n",
    "import matplotlib.pyplot as plt\n",
    "\n",
    "major_ticks = np.arange(15000, 35000, 5000)\n",
    "\n",
    "fig, ax = plt.subplots(figsize=(7, 4))\n",
    "# fig.autofmt_xdate(rotation=45)\n",
    "plt.plot_date(parsed_dates[0:92],word_count[0:92])\n",
    "plt.xticks(rotation=90)\n",
    "# plt.gca().set_yticks(major_ticks)\n",
    "# plt.gca().invert_yaxis()\n",
    "\n",
    "# plt.gca().set_yticks(major_ticks, minor=False)\n",
    "\n",
    "# plt.gca().locator_params(numticks=12)\n",
    "\n",
    "plt.gca()\n",
    "plt.tight_layout()\n",
    "# fig.savefig('tessstttyyy.png', dpi=100)\n",
    "plt.savefig('temp.pdf')\n",
    "plt.show()"
   ]
  },
  {
   "cell_type": "code",
   "execution_count": 8,
   "metadata": {},
   "outputs": [
    {
     "data": {
      "image/png": "[encoded data removed]",
      "text/plain": [
       "<matplotlib.figure.Figure at 0x10b65aa90>"
      ]
     },
     "metadata": {},
     "output_type": "display_data"
    }
   ],
   "source": []
  },
  {
   "cell_type": "code",
   "execution_count": 36,
   "metadata": {},
   "outputs": [
    {
     "data": {
      "text/plain": [
       "array([15000, 20000, 25000, 30000])"
      ]
     },
     "execution_count": 36,
     "metadata": {},
     "output_type": "execute_result"
    }
   ],
   "source": [
    "major_ticks"
   ]
  },
  {
   "cell_type": "code",
   "execution_count": 23,
   "metadata": {},
   "outputs": [
    {
     "data": {
      "text/plain": [
       "[' 33124',\n",
       " ' 33123',\n",
       " ' 32983',\n",
       " ' 32999',\n",
       " ' 33000',\n",
       " ' 32897',\n",
       " ' 29332',\n",
       " ' 32856',\n",
       " ' 32895',\n",
       " ' 32503',\n",
       " ' 32430',\n",
       " ' 32311',\n",
       " ' 32287',\n",
       " ' 32119',\n",
       " ' 31875',\n",
       " ' 31541',\n",
       " ' 4602',\n",
       " ' 4572',\n",
       " ' 31326',\n",
       " ' 29651',\n",
       " ' 1432',\n",
       " ' 28245',\n",
       " ' 28076',\n",
       " ' 28075',\n",
       " ' 27995',\n",
       " ' 27942',\n",
       " ' 27920',\n",
       " ' 27917',\n",
       " ' 27744',\n",
       " ' 27557',\n",
       " ' 27440',\n",
       " ' 27299',\n",
       " ' 27302',\n",
       " ' 27314',\n",
       " ' 27335',\n",
       " ' 27330',\n",
       " ' 27535',\n",
       " ' 27430',\n",
       " ' 27207',\n",
       " ' 26880',\n",
       " ' 27017',\n",
       " ' 27142',\n",
       " ' 27050',\n",
       " ' 27108',\n",
       " ' 27125',\n",
       " ' 27097',\n",
       " ' 27114',\n",
       " ' 27120',\n",
       " ' 27212',\n",
       " ' 25514',\n",
       " ' 24555',\n",
       " ' 27525',\n",
       " ' 25627',\n",
       " ' 27750',\n",
       " ' 27679',\n",
       " ' 28000',\n",
       " ' 27841',\n",
       " ' 27511',\n",
       " ' 24958',\n",
       " ' 25003',\n",
       " ' 25934',\n",
       " ' 25816',\n",
       " ' 25286',\n",
       " ' 25791',\n",
       " ' 25680',\n",
       " ' 25699',\n",
       " ' 25052',\n",
       " ' 24447',\n",
       " ' 24357',\n",
       " ' 23811',\n",
       " ' 23267',\n",
       " ' 23789',\n",
       " ' 23785',\n",
       " ' 23959',\n",
       " ' 23961',\n",
       " ' 23982',\n",
       " ' 24133',\n",
       " ' 24144',\n",
       " ' 24150',\n",
       " ' 24645',\n",
       " ' 24006',\n",
       " ' 22146',\n",
       " ' 21482',\n",
       " ' 21486',\n",
       " ' 21401',\n",
       " ' 21162',\n",
       " ' 19806',\n",
       " ' 18131',\n",
       " ' 16735',\n",
       " ' 14147',\n",
       " ' 15848',\n",
       " ' 11813']"
      ]
     },
     "execution_count": 23,
     "metadata": {},
     "output_type": "execute_result"
    }
   ],
   "source": [
    "words"
   ]
  },
  {
   "cell_type": "code",
   "execution_count": 48,
   "metadata": {},
   "outputs": [],
   "source": [
    "int_array = [ int(s) for s in words ]"
   ]
  },
  {
   "cell_type": "code",
   "execution_count": 49,
   "metadata": {},
   "outputs": [
    {
     "data": {
      "text/plain": [
       "[33124,\n",
       " 33123,\n",
       " 32983,\n",
       " 32999,\n",
       " 33000,\n",
       " 32897,\n",
       " 29332,\n",
       " 32856,\n",
       " 32895,\n",
       " 32503,\n",
       " 32430,\n",
       " 32311,\n",
       " 32287,\n",
       " 32119,\n",
       " 31875,\n",
       " 31541,\n",
       " 4602,\n",
       " 4572,\n",
       " 31326,\n",
       " 29651,\n",
       " 1432,\n",
       " 28245,\n",
       " 28076,\n",
       " 28075,\n",
       " 27995,\n",
       " 27942,\n",
       " 27920,\n",
       " 27917,\n",
       " 27744,\n",
       " 27557,\n",
       " 27440,\n",
       " 27299,\n",
       " 27302,\n",
       " 27314,\n",
       " 27335,\n",
       " 27330,\n",
       " 27535,\n",
       " 27430,\n",
       " 27207,\n",
       " 26880,\n",
       " 27017,\n",
       " 27142,\n",
       " 27050,\n",
       " 27108,\n",
       " 27125,\n",
       " 27097,\n",
       " 27114,\n",
       " 27120,\n",
       " 27212,\n",
       " 25514,\n",
       " 24555,\n",
       " 27525,\n",
       " 25627,\n",
       " 27750,\n",
       " 27679,\n",
       " 28000,\n",
       " 27841,\n",
       " 27511,\n",
       " 24958,\n",
       " 25003,\n",
       " 25934,\n",
       " 25816,\n",
       " 25286,\n",
       " 25791,\n",
       " 25680,\n",
       " 25699,\n",
       " 25052,\n",
       " 24447,\n",
       " 24357,\n",
       " 23811,\n",
       " 23267,\n",
       " 23789,\n",
       " 23785,\n",
       " 23959,\n",
       " 23961,\n",
       " 23982,\n",
       " 24133,\n",
       " 24144,\n",
       " 24150,\n",
       " 24645,\n",
       " 24006,\n",
       " 22146,\n",
       " 21482,\n",
       " 21486,\n",
       " 21401,\n",
       " 21162,\n",
       " 19806,\n",
       " 18131,\n",
       " 16735,\n",
       " 14147,\n",
       " 15848,\n",
       " 11813]"
      ]
     },
     "execution_count": 49,
     "metadata": {},
     "output_type": "execute_result"
    }
   ],
   "source": [
    "int_array"
   ]
  },
  {
   "cell_type": "code",
   "execution_count": 46,
   "metadata": {},
   "outputs": [
    {
     "ename": "TypeError",
     "evalue": "'map' object is not subscriptable",
     "output_type": "error",
     "traceback": [
      "\u001b[0;31m---------------------------------------------------------------------------\u001b[0m",
      "\u001b[0;31mTypeError\u001b[0m                                 Traceback (most recent call last)",
      "\u001b[0;32m<ipython-input-46-2bc17b031754>\u001b[0m in \u001b[0;36m<module>\u001b[0;34m()\u001b[0m\n\u001b[0;32m----> 1\u001b[0;31m \u001b[0mwords\u001b[0m\u001b[0;34m[\u001b[0m\u001b[0;36m0\u001b[0m\u001b[0;34m]\u001b[0m\u001b[0;34m\u001b[0m\u001b[0m\n\u001b[0m",
      "\u001b[0;31mTypeError\u001b[0m: 'map' object is not subscriptable"
     ]
    }
   ],
   "source": [
    "words[0]"
   ]
  },
  {
   "cell_type": "code",
   "execution_count": null,
   "metadata": {},
   "outputs": [],
   "source": []
  }
 ],
 "metadata": {
  "kernel_info": {
   "name": "python3"
  },
  "kernelspec": {
   "display_name": "thisenv",
   "language": "python",
   "name": "thisenv"
  },
  "language_info": {
   "codemirror_mode": {
    "name": "ipython",
    "version": 3
   },
   "file_extension": ".py",
   "mimetype": "text/x-python",
   "name": "python",
   "nbconvert_exporter": "python",
   "pygments_lexer": "ipython3",
   "version": "3.6.3"
  },
  "nteract": {
   "version": "0.11.6"
  }
 },
 "nbformat": 4,
 "nbformat_minor": 4
}
